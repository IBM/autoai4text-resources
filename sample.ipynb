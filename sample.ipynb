{
  "cells": [
    {
      "cell_type": "markdown",
      "metadata": {},
      "source": [
        "# AutoAI for Text API - Sample notebook"
      ]
    },
    {
      "cell_type": "markdown",
      "metadata": {},
      "source": [
        "This notebooks performs the steps required to use AutoAI for Text on API Hub, which are:\n",
        "- Set up the credentials\n",
        "- Make a health check \n",
        "- Inspect the datasets\n",
        "- Run and experiment\n",
        "- Retrieve and inspect the results"
      ]
    },
    {
      "cell_type": "markdown",
      "metadata": {},
      "source": [
        "### Essential installs and imports"
      ]
    },
    {
      "cell_type": "code",
      "execution_count": null,
      "metadata": {},
      "outputs": [],
      "source": [
        "!pip install pandas\n",
        "!pip install requests"
      ]
    },
    {
      "cell_type": "code",
      "execution_count": 2,
      "metadata": {},
      "outputs": [],
      "source": [
        "import requests\n",
        "import pandas as pd\n",
        "from time import sleep\n",
        "import json"
      ]
    },
    {
      "cell_type": "markdown",
      "metadata": {},
      "source": [
        "### Prepare the _headers_ and base urls for the API request\n",
        "\n",
        "In order to make requests to AutoAI for Text you need to put authentication information in the request header. The authentication credentials include Client ID and Client secret. You can get these by clicking Get trial subscription button in the top-right corner of the [AutoAI for Text API page](https://developer.ibm.com/apis/catalog/autoai4text--autoai-for-text/Introduction) and registering a free trial using your IBMid. Once your account is registered, navigate to APIs in your account's [dashboard](https://developer.ibm.com/profile/myapis). Find the subscription to AutoAI for Text service and click on it. You can expand the dropdown and see those two credentials in the Key management section.\n"
      ]
    },
    {
      "cell_type": "code",
      "execution_count": 3,
      "metadata": {},
      "outputs": [],
      "source": [
        "headers = {\n",
        "    \"X-IBM-Client-Id\": \"\", \n",
        "    \"X-IBM-Client-Secret\": \"\",\n",
        "    \"Accept\": \"application/json\"\n",
        "}\n",
        "\n",
        "base_url = \"https://api.ibm.com\"\n",
        "autoai4text_api_url = f\"{base_url}/autoai4text/run\""
      ]
    },
    {
      "cell_type": "markdown",
      "metadata": {},
      "source": [
        "### Preliminary health check to make sure your credentials are OK and you can access the service!\n",
        "\n",
        "You will get a \"Welcome to the AutoAI for Text service!\" message. If you receive an \"Authorize\" message, please check your credentials."
      ]
    },
    {
      "cell_type": "code",
      "execution_count": 4,
      "metadata": {},
      "outputs": [
        {
          "name": "stdout",
          "output_type": "stream",
          "text": [
            "https://api.ibm.com/autoai4text/run/health_check\n",
            "\"Welcome to the AutoAI for Text service!\"\n",
            "\n"
          ]
        }
      ],
      "source": [
        "health_check_url = f\"{autoai4text_api_url}/health_check\"\n",
        "print(health_check_url)\n",
        "response = requests.get(health_check_url, headers=headers)\n",
        "print(response.text)"
      ]
    },
    {
      "cell_type": "markdown",
      "metadata": {},
      "source": [
        "### Inspect the data"
      ]
    },
    {
      "cell_type": "code",
      "execution_count": 5,
      "metadata": {},
      "outputs": [
        {
          "name": "stdout",
          "output_type": "stream",
          "text": [
            "Train dataset shape: (5452, 2)\n",
            "Holdout dataset shape: (500, 2)\n"
          ]
        }
      ],
      "source": [
        "trec_train = pd.read_csv(\"trec_train.csv\")\n",
        "trec_holdout = pd.read_csv(\"trec_holdout.csv\")\n",
        "print(f\"Train dataset shape: {trec_train.shape}\")\n",
        "print(f\"Holdout dataset shape: {trec_holdout.shape}\")\n"
      ]
    },
    {
      "cell_type": "code",
      "execution_count": 6,
      "metadata": {},
      "outputs": [
        {
          "name": "stdout",
          "output_type": "stream",
          "text": [
            "Train dataset's first rows\n"
          ]
        },
        {
          "data": {
            "text/html": [
              "<div>\n",
              "<style scoped>\n",
              "    .dataframe tbody tr th:only-of-type {\n",
              "        vertical-align: middle;\n",
              "    }\n",
              "\n",
              "    .dataframe tbody tr th {\n",
              "        vertical-align: top;\n",
              "    }\n",
              "\n",
              "    .dataframe thead th {\n",
              "        text-align: right;\n",
              "    }\n",
              "</style>\n",
              "<table border=\"1\" class=\"dataframe\">\n",
              "  <thead>\n",
              "    <tr style=\"text-align: right;\">\n",
              "      <th></th>\n",
              "      <th>Sentence</th>\n",
              "      <th>Label</th>\n",
              "    </tr>\n",
              "  </thead>\n",
              "  <tbody>\n",
              "    <tr>\n",
              "      <th>0</th>\n",
              "      <td>How did serfdom develop in and then leave Russ...</td>\n",
              "      <td>1</td>\n",
              "    </tr>\n",
              "    <tr>\n",
              "      <th>1</th>\n",
              "      <td>What films featured the character Popeye Doyle ?</td>\n",
              "      <td>2</td>\n",
              "    </tr>\n",
              "    <tr>\n",
              "      <th>2</th>\n",
              "      <td>How can I find a list of celebrities ' real na...</td>\n",
              "      <td>1</td>\n",
              "    </tr>\n",
              "    <tr>\n",
              "      <th>3</th>\n",
              "      <td>What fowl grabs the spotlight after the Chines...</td>\n",
              "      <td>2</td>\n",
              "    </tr>\n",
              "    <tr>\n",
              "      <th>4</th>\n",
              "      <td>What is the full form of .com ?</td>\n",
              "      <td>0</td>\n",
              "    </tr>\n",
              "  </tbody>\n",
              "</table>\n",
              "</div>"
            ],
            "text/plain": [
              "                                            Sentence  Label\n",
              "0  How did serfdom develop in and then leave Russ...      1\n",
              "1   What films featured the character Popeye Doyle ?      2\n",
              "2  How can I find a list of celebrities ' real na...      1\n",
              "3  What fowl grabs the spotlight after the Chines...      2\n",
              "4                    What is the full form of .com ?      0"
            ]
          },
          "execution_count": 6,
          "metadata": {},
          "output_type": "execute_result"
        }
      ],
      "source": [
        "print(\"Train dataset's first rows\")\n",
        "trec_train.head()"
      ]
    },
    {
      "cell_type": "code",
      "execution_count": 7,
      "metadata": {},
      "outputs": [
        {
          "name": "stdout",
          "output_type": "stream",
          "text": [
            "Holdout dataset's first rows\n"
          ]
        },
        {
          "data": {
            "text/html": [
              "<div>\n",
              "<style scoped>\n",
              "    .dataframe tbody tr th:only-of-type {\n",
              "        vertical-align: middle;\n",
              "    }\n",
              "\n",
              "    .dataframe tbody tr th {\n",
              "        vertical-align: top;\n",
              "    }\n",
              "\n",
              "    .dataframe thead th {\n",
              "        text-align: right;\n",
              "    }\n",
              "</style>\n",
              "<table border=\"1\" class=\"dataframe\">\n",
              "  <thead>\n",
              "    <tr style=\"text-align: right;\">\n",
              "      <th></th>\n",
              "      <th>Sentence</th>\n",
              "      <th>Label</th>\n",
              "    </tr>\n",
              "  </thead>\n",
              "  <tbody>\n",
              "    <tr>\n",
              "      <th>0</th>\n",
              "      <td>How far is it from Denver to Aspen ?</td>\n",
              "      <td>5</td>\n",
              "    </tr>\n",
              "    <tr>\n",
              "      <th>1</th>\n",
              "      <td>What county is Modesto , California in ?</td>\n",
              "      <td>4</td>\n",
              "    </tr>\n",
              "    <tr>\n",
              "      <th>2</th>\n",
              "      <td>Who was Galileo ?</td>\n",
              "      <td>3</td>\n",
              "    </tr>\n",
              "    <tr>\n",
              "      <th>3</th>\n",
              "      <td>What is an atom ?</td>\n",
              "      <td>1</td>\n",
              "    </tr>\n",
              "    <tr>\n",
              "      <th>4</th>\n",
              "      <td>When did Hawaii become a state ?</td>\n",
              "      <td>5</td>\n",
              "    </tr>\n",
              "  </tbody>\n",
              "</table>\n",
              "</div>"
            ],
            "text/plain": [
              "                                   Sentence  Label\n",
              "0      How far is it from Denver to Aspen ?      5\n",
              "1  What county is Modesto , California in ?      4\n",
              "2                         Who was Galileo ?      3\n",
              "3                         What is an atom ?      1\n",
              "4          When did Hawaii become a state ?      5"
            ]
          },
          "execution_count": 7,
          "metadata": {},
          "output_type": "execute_result"
        }
      ],
      "source": [
        "print(\"Holdout dataset's first rows\")\n",
        "trec_holdout.head()"
      ]
    },
    {
      "cell_type": "markdown",
      "metadata": {},
      "source": [
        "### Preparing to run an experiment: set the parameters\n",
        "\n",
        "The only required parameter is the train_file, but here we are setting all of them."
      ]
    },
    {
      "cell_type": "code",
      "execution_count": 9,
      "metadata": {},
      "outputs": [],
      "source": [
        "params = {\n",
        "        \"scorer_for_ranking\": \"accuracy\",\n",
        "        \"time_to_train\": 600,\n",
        "        \"models_to_include\": 'cnn,bert,lstm',\n",
        "        \"max_evals_count\": 30,\n",
        "        \"ranked_pipelines_count\": 4,\n",
        "        \"text_column_index\": 0,\n",
        "        \"label_column_index\": 1,\n",
        "        \"label_type\": 'int',\n",
        "        \"file_delimiter\": ',',\n",
        "        \"validation_ratio\": .1,\n",
        "}\n",
        "\n",
        "files = {\n",
        "    \"train_file\":('trec_train.csv', open('trec_train.csv')),\n",
        "    \"holdout_file\":('trec_holdout.csv', open('trec_holdout.csv'))\n",
        "}"
      ]
    },
    {
      "cell_type": "markdown",
      "metadata": {},
      "source": [
        "### Ready to run the experiment"
      ]
    },
    {
      "cell_type": "code",
      "execution_count": null,
      "metadata": {},
      "outputs": [],
      "source": [
        "run_experiment_url = f\"{autoai4text_api_url}/experiment\"\n",
        "print(run_experiment_url)\n",
        "response = requests.post(\n",
        "    run_experiment_url,\n",
        "    headers=headers,\n",
        "    files=files,\n",
        "    params=params\n",
        ")\n",
        "exp_id = response.json()['exp_id']\n",
        "f'The experiment ID is : {exp_id}'"
      ]
    },
    {
      "cell_type": "markdown",
      "metadata": {},
      "source": [
        "### Make status checks against the above returned _exp\\_id_\n",
        "\n",
        "The below code snippet will make status check calls until the experiment results are available, i.e. the status code is 200 "
      ]
    },
    {
      "cell_type": "code",
      "execution_count": 11,
      "metadata": {},
      "outputs": [
        {
          "name": "stdout",
          "output_type": "stream",
          "text": [
            "https://api.ibm.com/autoai4text/run/experiment/ddba9c1a3d224263b453da866b654026\n",
            "The experiment has finished and optimizer has learnt 4 pipelines.\n"
          ]
        }
      ],
      "source": [
        "experiment_status_url = f\"{autoai4text_api_url}/experiment/{exp_id}\"\n",
        "print(experiment_status_url)\n",
        "\n",
        "def get_results():\n",
        "    return requests.get(experiment_status_url, headers=headers)\n",
        "\n",
        "response = get_results()\n",
        "status_code = response.status_code\n",
        "sleep(600)\n",
        "while status_code != 200:\n",
        "    sleep(30)\n",
        "    response = get_results()\n",
        "    status_code = response.status_code\n",
        "\n",
        "if status_code != 200:\n",
        "    print('Unexpected error')\n",
        "    print(response.text)\n",
        "elif status_code == 200:\n",
        "    print(f\"The experiment has finished and {response.json()['message']}\") "
      ]
    },
    {
      "cell_type": "markdown",
      "metadata": {},
      "source": [
        "### Inspect the results"
      ]
    },
    {
      "cell_type": "markdown",
      "metadata": {},
      "source": [
        "#### _See the pipeline nodes_"
      ]
    },
    {
      "cell_type": "code",
      "execution_count": 14,
      "metadata": {},
      "outputs": [
        {
          "name": "stdout",
          "output_type": "stream",
          "text": [
            "results is a list containing 4 pipeline reports\n",
            "The nodes of the best pipeline are:\n",
            "{\n",
            "    \"TransformerStylePreprocessor\": {\n",
            "        \"op\": \"TransformerStylePreprocessor\",\n",
            "        \"hyperparameters\": {\n",
            "            \"model_name\": \"BERT\",\n",
            "            \"max_length\": 200\n",
            "        }\n",
            "    },\n",
            "    \"TransformerStyleEmbedding\": {\n",
            "        \"op\": \"TransformerStyleEmbedding\"\n",
            "    },\n",
            "    \"MLPClassifier\": {\n",
            "        \"op\": \"MLPClassifier\"\n",
            "    }\n",
            "}\n"
          ]
        }
      ],
      "source": [
        "results = response.json()['report']\n",
        "print(f'results is a list containing {len(results)} pipeline reports')\n",
        "print(f'The nodes of the best pipeline are:')\n",
        "print(json.dumps(results[0]['pipeline_nodes'], indent=4))"
      ]
    },
    {
      "cell_type": "markdown",
      "metadata": {},
      "source": [
        "#### _See the metric scores for validation and holdout:_"
      ]
    },
    {
      "cell_type": "code",
      "execution_count": 16,
      "metadata": {},
      "outputs": [
        {
          "name": "stdout",
          "output_type": "stream",
          "text": [
            "The validation metric scores of the best pipeline are:\n",
            "{\n",
            "    \"recall_weighted\": 0.945054945054945,\n",
            "    \"recall_macro\": 0.9016174486783936,\n",
            "    \"recall_micro\": 0.945054945054945,\n",
            "    \"precision_weighted\": 0.9450317425622976,\n",
            "    \"precision_macro\": 0.9029358216301069,\n",
            "    \"precision_micro\": 0.945054945054945,\n",
            "    \"f1_weighted\": 0.9448581324742835,\n",
            "    \"f1_macro\": 0.9021297306344517,\n",
            "    \"f1_micro\": 0.945054945054945,\n",
            "    \"accuracy\": 0.945054945054945,\n",
            "    \"runtime_per_row_predict\": 3.1365985835428205\n",
            "}\n",
            "The holdout metric scores of the best pipeline are: \n",
            "{\n",
            "    \"recall_weighted\": 0.97,\n",
            "    \"recall_macro\": 0.9388377011308453,\n",
            "    \"recall_micro\": 0.97,\n",
            "    \"precision_weighted\": 0.9707023257930742,\n",
            "    \"precision_macro\": 0.9765440054758812,\n",
            "    \"precision_micro\": 0.97,\n",
            "    \"f1_weighted\": 0.9693295945543323,\n",
            "    \"f1_macro\": 0.9547405298858841,\n",
            "    \"f1_micro\": 0.97,\n",
            "    \"accuracy\": 0.97,\n",
            "    \"runtime_per_row_predict\": 2.414210319519043\n",
            "}\n"
          ]
        }
      ],
      "source": [
        "print(f'The validation metric scores of the best pipeline are:')\n",
        "print(json.dumps(results[0]['validation_scores_report'], indent=4))\n",
        "print(f'The holdout metric scores of the best pipeline are: ')\n",
        "print(json.dumps(results[0]['holdout_scores_report'], indent=4))"
      ]
    },
    {
      "cell_type": "markdown",
      "metadata": {},
      "source": [
        "#### _See the predictions made by the best pipeline from the holdout dataset_"
      ]
    },
    {
      "cell_type": "code",
      "execution_count": 17,
      "metadata": {},
      "outputs": [
        {
          "name": "stdout",
          "output_type": "stream",
          "text": [
            "The predictions on the holdout dataset of the best pipeline are:\n",
            "[5.0, 4.0, 3.0, 1.0, 5.0, 5.0, 3.0, 2.0, 1.0, 1.0, 4.0, 3.0, 5.0, 3.0, 5.0, 5.0, 2.0, 3.0, 1.0, 5.0, 3.0, 1.0, 4.0, 1.0, 1.0, 3.0, 1.0, 4.0, 4.0, 4.0, 5.0, 4.0, 1.0, 5.0, 5.0, 5.0, 4.0, 5.0, 5.0, 5.0, 2.0, 1.0, 1.0, 1.0, 2.0, 2.0, 5.0, 1.0, 5.0, 3.0, 1.0, 3.0, 3.0, 1.0, 1.0, 1.0, 5.0, 4.0, 4.0, 5.0, 4.0, 3.0, 4.0, 2.0, 4.0, 3.0, 2.0, 1.0, 5.0, 4.0, 5.0, 5.0, 4.0, 3.0, 4.0, 1.0, 2.0, 5.0, 5.0, 3.0, 1.0, 5.0, 3.0, 5.0, 5.0, 1.0, 1.0, 3.0, 1.0, 4.0, 2.0, 1.0, 5.0, 5.0, 3.0, 4.0, 5.0, 1.0, 1.0, 5.0, 1.0, 3.0, 1.0, 3.0, 4.0, 1.0, 5.0, 2.0, 5.0, 4.0, 2.0, 1.0, 5.0, 3.0, 2.0, 3.0, 5.0, 2.0, 5.0, 4.0, 5.0, 5.0, 1.0, 3.0, 5.0, 3.0, 5.0, 5.0, 1.0, 5.0, 5.0, 3.0, 1.0, 2.0, 1.0, 4.0, 4.0, 3.0, 3.0, 1.0, 1.0, 2.0, 4.0, 2.0, 1.0, 2.0, 3.0, 2.0, 1.0, 1.0, 2.0, 3.0, 1.0, 5.0, 3.0, 4.0, 4.0, 1.0, 4.0, 4.0, 1.0, 1.0, 5.0, 4.0, 2.0, 4.0, 5.0, 1.0, 4.0, 3.0, 5.0, 5.0, 5.0, 1.0, 4.0, 4.0, 4.0, 5.0, 2.0, 5.0, 4.0, 1.0, 4.0, 1.0, 2.0, 3.0, 3.0, 1.0, 4.0, 2.0, 1.0, 5.0, 5.0, 5.0, 1.0, 4.0, 2.0, 3.0, 2.0, 2.0, 2.0, 4.0, 3.0, 2.0, 5.0, 4.0, 3.0, 5.0, 1.0, 1.0, 5.0, 5.0, 4.0, 4.0, 1.0, 2.0, 1.0, 2.0, 5.0, 1.0, 1.0, 5.0, 1.0, 5.0, 4.0, 2.0, 5.0, 1.0, 4.0, 3.0, 5.0, 3.0, 1.0, 5.0, 3.0, 1.0, 4.0, 1.0, 4.0, 5.0, 4.0, 1.0, 1.0, 1.0, 1.0, 4.0, 1.0, 1.0, 1.0, 1.0, 3.0, 1.0, 2.0, 2.0, 1.0, 4.0, 5.0, 2.0, 1.0, 5.0, 3.0, 3.0, 5.0, 2.0, 5.0, 1.0, 1.0, 4.0, 5.0, 1.0, 2.0, 1.0, 1.0, 3.0, 1.0, 1.0, 1.0, 5.0, 0.0, 2.0, 4.0, 3.0, 0.0, 1.0, 4.0, 1.0, 1.0, 1.0, 1.0, 1.0, 4.0, 1.0, 5.0, 3.0, 1.0, 1.0, 2.0, 5.0, 2.0, 2.0, 0.0, 5.0, 1.0, 5.0, 5.0, 4.0, 3.0, 4.0, 3.0, 5.0, 4.0, 4.0, 5.0, 1.0, 4.0, 1.0, 3.0, 4.0, 2.0, 4.0, 1.0, 5.0, 1.0, 2.0, 5.0, 1.0, 1.0, 5.0, 5.0, 1.0, 1.0, 5.0, 2.0, 2.0, 5.0, 4.0, 1.0, 2.0, 1.0, 5.0, 5.0, 2.0, 5.0, 3.0, 5.0, 3.0, 2.0, 1.0, 5.0, 1.0, 5.0, 4.0, 2.0, 2.0, 1.0, 3.0, 5.0, 5.0, 1.0, 2.0, 1.0, 1.0, 2.0, 5.0, 1.0, 5.0, 2.0, 2.0, 1.0, 4.0, 5.0, 2.0, 1.0, 1.0, 2.0, 5.0, 4.0, 1.0, 0.0, 1.0, 3.0, 3.0, 2.0, 3.0, 5.0, 5.0, 1.0, 3.0, 1.0, 1.0, 3.0, 1.0, 2.0, 5.0, 1.0, 1.0, 1.0, 5.0, 5.0, 4.0, 3.0, 2.0, 5.0, 0.0, 5.0, 4.0, 1.0, 4.0, 5.0, 1.0, 3.0, 2.0, 4.0, 0.0, 2.0, 1.0, 1.0, 1.0, 3.0, 3.0, 5.0, 4.0, 2.0, 1.0, 4.0, 4.0, 1.0, 4.0, 1.0, 3.0, 1.0, 2.0, 4.0, 3.0, 1.0, 1.0, 1.0, 5.0, 0.0, 2.0, 3.0, 2.0, 4.0, 2.0, 3.0, 2.0, 4.0, 3.0, 5.0, 2.0, 2.0, 2.0, 2.0, 5.0, 5.0, 5.0, 2.0, 4.0, 1.0, 1.0, 2.0, 2.0, 4.0, 5.0, 4.0, 2.0, 1.0, 3.0, 1.0, 1.0, 1.0, 1.0, 2.0, 5.0, 2.0, 2.0, 1.0, 4.0, 2.0, 4.0, 2.0, 2.0, 2.0, 1.0, 4.0, 1.0, 4.0, 5.0, 1.0, 2.0, 1.0, 1.0, 2.0, 5.0, 5.0, 3.0, 5.0, 5.0, 2.0, 1.0]\n"
          ]
        }
      ],
      "source": [
        "print(f'The predictions on the holdout dataset of the best pipeline are:')\n",
        "print(results[0]['holdout_predicted_values'])"
      ]
    }
  ],
  "metadata": {
    "interpreter": {
      "hash": "ce3a9980486422f6e4c61d627abb0d8052709c4100c90a64e32520640d2f8ae0"
    },
    "kernelspec": {
      "display_name": "Python 3.9.11 ('resources-autotext-rest-FJICfC3d')",
      "language": "python",
      "name": "python3"
    },
    "language_info": {
      "codemirror_mode": {
        "name": "ipython",
        "version": 3
      },
      "file_extension": ".py",
      "mimetype": "text/x-python",
      "name": "python",
      "nbconvert_exporter": "python",
      "pygments_lexer": "ipython3",
      "version": "3.9.11"
    },
    "orig_nbformat": 4
  },
  "nbformat": 4,
  "nbformat_minor": 2
}
